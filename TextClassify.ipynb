{
 "cells": [
  {
   "cell_type": "code",
   "execution_count": 144,
   "metadata": {
    "collapsed": true
   },
   "outputs": [],
   "source": [
    "import numpy as np\n",
    "import math"
   ]
  },
  {
   "cell_type": "code",
   "execution_count": 145,
   "metadata": {
    "collapsed": true
   },
   "outputs": [],
   "source": [
    "numberOfWordsInVocabulary = 61188\n",
    "numberOfClasses = 20\n",
    "numberOfTestingExamples = 7505"
   ]
  },
  {
   "cell_type": "code",
   "execution_count": 146,
   "metadata": {
    "collapsed": false
   },
   "outputs": [],
   "source": [
    "classProbabilityMatrix = np.zeros((numberOfClasses,))"
   ]
  },
  {
   "cell_type": "code",
   "execution_count": 147,
   "metadata": {
    "collapsed": true
   },
   "outputs": [],
   "source": [
    "wordProbabilityMatrix = np.zeros((numberOfWordsInVocabulary,numberOfClasses))"
   ]
  },
  {
   "cell_type": "code",
   "execution_count": 148,
   "metadata": {
    "collapsed": true
   },
   "outputs": [],
   "source": [
    "wordCountMatrix = np.zeros((numberOfWordsInVocabulary,numberOfClasses))"
   ]
  },
  {
   "cell_type": "code",
   "execution_count": 149,
   "metadata": {
    "collapsed": false
   },
   "outputs": [
    {
     "data": {
      "text/plain": [
       "array([ 480.,  581.,  572.,  587.,  575.,  592.,  582.,  592.,  596.,\n",
       "        594.,  598.,  594.,  591.,  594.,  593.,  599.,  545.,  564.,\n",
       "        464.,  376.])"
      ]
     },
     "execution_count": 149,
     "metadata": {},
     "output_type": "execute_result"
    }
   ],
   "source": [
    "rowIndex = 1\n",
    "docIdToLabel = {}\n",
    "with open('data/train.label', 'r') as trainLabels:\n",
    "    for line in trainLabels:\n",
    "        label = int(line.rstrip('\\n'))\n",
    "        docIdToLabel[str(rowIndex)] = label\n",
    "        classProbabilityMatrix[label-1] = classProbabilityMatrix[label-1] + 1\n",
    "        rowIndex = rowIndex + 1\n",
    "classProbabilityMatrix"
   ]
  },
  {
   "cell_type": "code",
   "execution_count": 150,
   "metadata": {
    "collapsed": false
   },
   "outputs": [
    {
     "data": {
      "text/plain": [
       "array([-4.55318128, -4.27767752, -4.30020054, -4.26285518, -4.29265373,\n",
       "       -4.25061851, -4.27519653, -4.25061851, -4.24090336, -4.24575276,\n",
       "       -4.2360702 , -4.24575276, -4.25305756, -4.24575276, -4.24818358,\n",
       "       -4.23365968, -4.36995946, -4.32052052, -4.60209088, -4.90548303])"
      ]
     },
     "execution_count": 150,
     "metadata": {},
     "output_type": "execute_result"
    }
   ],
   "source": [
    "totalTrainingExamples = classProbabilityMatrix.sum()\n",
    "classProbabilityMatrix = np.log2(classProbabilityMatrix/totalTrainingExamples)\n",
    "classProbabilityMatrix"
   ]
  },
  {
   "cell_type": "code",
   "execution_count": 151,
   "metadata": {
    "collapsed": false
   },
   "outputs": [
    {
     "data": {
      "text/plain": [
       "array([[  13.,   60.,   11., ...,   10.,    0.,    0.],\n",
       "       [  63.,   59.,   69., ...,  154.,   39.,   45.],\n",
       "       [ 275.,    0.,    0., ...,    0.,    0.,    9.],\n",
       "       ..., \n",
       "       [   0.,    0.,    0., ...,    0.,    0.,    0.],\n",
       "       [   0.,    0.,    0., ...,    0.,    0.,    0.],\n",
       "       [   0.,    0.,    0., ...,    0.,    0.,    0.]])"
      ]
     },
     "execution_count": 151,
     "metadata": {},
     "output_type": "execute_result"
    }
   ],
   "source": [
    "with open('data/train.data','r') as trainData:\n",
    "    for line in trainData:\n",
    "        values = line.rstrip('\\n').split(\" \")\n",
    "        label = docIdToLabel[values[0]]\n",
    "        wordId = int(values[1])\n",
    "        wordCount = int(values[2])\n",
    "        matrixValue = wordCountMatrix[wordId-1,label-1]\n",
    "        newValue = matrixValue + wordCount\n",
    "        wordCountMatrix[wordId-1,label-1] = newValue\n",
    "wordCountMatrix"
   ]
  },
  {
   "cell_type": "code",
   "execution_count": 153,
   "metadata": {
    "collapsed": false
   },
   "outputs": [
    {
     "data": {
      "text/plain": [
       "110358.0"
      ]
     },
     "execution_count": 153,
     "metadata": {},
     "output_type": "execute_result"
    }
   ],
   "source": [
    "wordCountMatrix[:,1].sum()"
   ]
  },
  {
   "cell_type": "code",
   "execution_count": 154,
   "metadata": {
    "collapsed": true
   },
   "outputs": [],
   "source": [
    "#beta = 1.0/numberOfWordsInVocabulary\n",
    "beta = 1.0"
   ]
  },
  {
   "cell_type": "code",
   "execution_count": 155,
   "metadata": {
    "collapsed": false
   },
   "outputs": [],
   "source": [
    "vocabSize = numberOfWordsInVocabulary\n",
    "for v in range(0,numberOfClasses):\n",
    "    totalWordsInClassV = wordCountMatrix[:,v].sum()\n",
    "    \n",
    "    for w in range(0,numberOfWordsInVocabulary):\n",
    "        wordId = int(w)\n",
    "        label = int(v)\n",
    "        countOfWInClassV = wordCountMatrix[w,v]\n",
    "        probabilityOfWGivenV = ((countOfWInClassV) + beta)/ (totalWordsInClassV + beta*vocabSize)\n",
    "        wordProbabilityMatrix[wordId,label] = probabilityOfWGivenV\n"
   ]
  },
  {
   "cell_type": "code",
   "execution_count": 156,
   "metadata": {
    "collapsed": false
   },
   "outputs": [],
   "source": [
    "wordProbabilityMatrix = np.log2(wordProbabilityMatrix)\n"
   ]
  },
  {
   "cell_type": "code",
   "execution_count": 157,
   "metadata": {
    "collapsed": true
   },
   "outputs": [],
   "source": [
    "testMatrix = np.zeros((numberOfTestingExamples,numberOfWordsInVocabulary))"
   ]
  },
  {
   "cell_type": "code",
   "execution_count": 158,
   "metadata": {
    "collapsed": false
   },
   "outputs": [],
   "source": [
    "rowIndex = 1\n",
    "docIdToTestLabel = {}\n",
    "with open('data/test.label', 'r') as testLabels:\n",
    "    for line in testLabels:\n",
    "        docIdToTestLabel[str(rowIndex)] = int(line.rstrip('\\n'))\n",
    "        #docIdToTestLabel.append(int(line.rstrip('\\n')))\n",
    "        rowIndex = rowIndex + 1"
   ]
  },
  {
   "cell_type": "code",
   "execution_count": 159,
   "metadata": {
    "collapsed": false
   },
   "outputs": [],
   "source": [
    "with open('data/test.data','r') as testData:   \n",
    "    for line in testData:\n",
    "        values = line.rstrip('\\n').split(\" \")\n",
    "        label = docIdToTestLabel[values[0]]\n",
    "        docId = int(values[0])\n",
    "        wordId = int(values[1])\n",
    "        wordCount = int(values[2])\n",
    "        testMatrix[docId-1,wordId-1] = wordCount\n"
   ]
  },
  {
   "cell_type": "code",
   "execution_count": 160,
   "metadata": {
    "collapsed": false
   },
   "outputs": [],
   "source": [
    "classifySumMatrix = np.dot(testMatrix,wordProbabilityMatrix)"
   ]
  },
  {
   "cell_type": "code",
   "execution_count": null,
   "metadata": {
    "collapsed": false
   },
   "outputs": [],
   "source": []
  },
  {
   "cell_type": "code",
   "execution_count": 161,
   "metadata": {
    "collapsed": false
   },
   "outputs": [],
   "source": [
    "classifyProbabilityMatrix = classifySumMatrix + classProbabilityMatrix"
   ]
  },
  {
   "cell_type": "code",
   "execution_count": null,
   "metadata": {
    "collapsed": false
   },
   "outputs": [],
   "source": []
  },
  {
   "cell_type": "code",
   "execution_count": 162,
   "metadata": {
    "collapsed": false
   },
   "outputs": [],
   "source": [
    "prediction = np.argmax(classifyProbabilityMatrix[7503,:]) + 1"
   ]
  },
  {
   "cell_type": "code",
   "execution_count": 163,
   "metadata": {
    "collapsed": false
   },
   "outputs": [
    {
     "data": {
      "text/plain": [
       "16"
      ]
     },
     "execution_count": 163,
     "metadata": {},
     "output_type": "execute_result"
    }
   ],
   "source": [
    "prediction"
   ]
  },
  {
   "cell_type": "code",
   "execution_count": 164,
   "metadata": {
    "collapsed": false
   },
   "outputs": [
    {
     "name": "stdout",
     "output_type": "stream",
     "text": [
      "1643\n"
     ]
    }
   ],
   "source": [
    "#file = open(\"classify2.txt\", \"w\")\n",
    "errorCount = 0\n",
    "for e in range(0,numberOfTestingExamples):\n",
    "    prediction = np.argmax(classifyProbabilityMatrix[e,:]) + 1\n",
    "    if prediction != docIdToTestLabel[str(e + 1)]:\n",
    "        errorCount = errorCount + 1\n",
    "        \n",
    "print(errorCount)"
   ]
  },
  {
   "cell_type": "code",
   "execution_count": 165,
   "metadata": {
    "collapsed": false
   },
   "outputs": [
    {
     "data": {
      "text/plain": [
       "0.7810792804796802"
      ]
     },
     "execution_count": 165,
     "metadata": {},
     "output_type": "execute_result"
    }
   ],
   "source": [
    "1.0 - errorCount/numberOfTestingExamples"
   ]
  },
  {
   "cell_type": "code",
   "execution_count": null,
   "metadata": {
    "collapsed": false
   },
   "outputs": [],
   "source": []
  },
  {
   "cell_type": "code",
   "execution_count": null,
   "metadata": {
    "collapsed": false
   },
   "outputs": [],
   "source": []
  },
  {
   "cell_type": "code",
   "execution_count": null,
   "metadata": {
    "collapsed": true
   },
   "outputs": [],
   "source": []
  },
  {
   "cell_type": "code",
   "execution_count": null,
   "metadata": {
    "collapsed": false
   },
   "outputs": [],
   "source": []
  },
  {
   "cell_type": "code",
   "execution_count": null,
   "metadata": {
    "collapsed": false
   },
   "outputs": [],
   "source": []
  },
  {
   "cell_type": "code",
   "execution_count": null,
   "metadata": {
    "collapsed": true
   },
   "outputs": [],
   "source": []
  }
 ],
 "metadata": {
  "kernelspec": {
   "display_name": "Python 3",
   "language": "python",
   "name": "python3"
  },
  "language_info": {
   "codemirror_mode": {
    "name": "ipython",
    "version": 3
   },
   "file_extension": ".py",
   "mimetype": "text/x-python",
   "name": "python",
   "nbconvert_exporter": "python",
   "pygments_lexer": "ipython3",
   "version": "3.5.1"
  }
 },
 "nbformat": 4,
 "nbformat_minor": 0
}
